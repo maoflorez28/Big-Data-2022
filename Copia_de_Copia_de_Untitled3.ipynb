{
  "nbformat": 4,
  "nbformat_minor": 0,
  "metadata": {
    "colab": {
      "provenance": [],
      "authorship_tag": "ABX9TyP9sRzi/s6ZmT8JaxXxLUQt",
      "include_colab_link": true
    },
    "kernelspec": {
      "name": "python3",
      "display_name": "Python 3"
    },
    "language_info": {
      "name": "python"
    }
  },
  "cells": [
    {
      "cell_type": "markdown",
      "metadata": {
        "id": "view-in-github",
        "colab_type": "text"
      },
      "source": [
        "<a href=\"https://colab.research.google.com/github/maoflorez28/Big-Data-2022/blob/main/Copia_de_Copia_de_Untitled3.ipynb\" target=\"_parent\"><img src=\"https://colab.research.google.com/assets/colab-badge.svg\" alt=\"Open In Colab\"/></a>"
      ]
    },
    {
      "cell_type": "code",
      "execution_count": null,
      "metadata": {
        "id": "2D4szE5iWimW"
      },
      "outputs": [],
      "source": [
        "from PIL import Image\n",
        "import numpy as gfg\n",
        "import numpy as np\n",
        "import matplotlib.pyplot as plt\n",
        "import cv2\n",
        "import matplotlib\n",
        "plt.rcParams['image.cmap'] = 'gray' #configuracion necesaria de pyplot para ver,→las imagenes en escala de grises\n",
        "%matplotlib inline\n"
      ]
    },
    {
      "cell_type": "code",
      "source": [
        "#Seleccionamos tamaño de la matriz\n",
        "size=(30,30)\n",
        "# Generamos matriz (para el caso de ceros)\n",
        "imagen_negra = np.zeros(size)\n",
        "#visualizamos la matriz\n",
        "plt.imshow(imagen_negra,vmin=0,vmax=1)# (indicar vmin y vmax - escala grises)"
      ],
      "metadata": {
        "colab": {
          "base_uri": "https://localhost:8080/",
          "height": 283
        },
        "id": "VAxWZjmyW6zD",
        "outputId": "92ab001d-785d-44af-c8ad-ca215a706584"
      },
      "execution_count": null,
      "outputs": [
        {
          "output_type": "execute_result",
          "data": {
            "text/plain": [
              "<matplotlib.image.AxesImage at 0x7fad51ab9810>"
            ]
          },
          "metadata": {},
          "execution_count": 3
        },
        {
          "output_type": "display_data",
          "data": {
            "text/plain": [
              "<Figure size 432x288 with 1 Axes>"
            ],
            "image/png": "[encoded data removed]"
          },
          "metadata": {
            "needs_background": "light"
          }
        }
      ]
    },
    {
      "cell_type": "code",
      "source": [
        "# IMAGEN BLANCA\n",
        "# Una matriz de unos. \n",
        "imagen_blanca = np.ones(size)\n",
        "\n",
        "#visualizamos la matriz\n",
        "#Se ve como una imagen blanca, ya que todos los elementos (pixeles) tienen intensidad 1\n",
        "plt.imshow(imagen_blanca,vmin=0,vmax=1)\n",
        "\n",
        "#creamos otra figura para mostrar la imagen (sino el proximo imshow sobreescribe al anterior)\n",
        "plt.figure()\n",
        "\n",
        "# IMAGEN GRIS\n",
        "# Una matriz con valor 0.5 en todos sus elementos \n",
        "imagen_gris = np.ones(size)*0.5\n",
        "\n",
        "#visualizamos la matriz\n",
        "#Se ve como una imagen gris, ya que todos los elementos (pixeles) tienen intensidad 0.5\n",
        "plt.imshow(imagen_gris,vmin=0,vmax=1)\n"
      ],
      "metadata": {
        "colab": {
          "base_uri": "https://localhost:8080/",
          "height": 532
        },
        "id": "tX9yCaV5Y5qv",
        "outputId": "c50a54cd-2b41-4d98-915d-776b7f337817"
      },
      "execution_count": null,
      "outputs": [
        {
          "output_type": "execute_result",
          "data": {
            "text/plain": [
              "<matplotlib.image.AxesImage at 0x7fad5150fdd0>"
            ]
          },
          "metadata": {},
          "execution_count": 4
        },
        {
          "output_type": "display_data",
          "data": {
            "text/plain": [
              "<Figure size 432x288 with 1 Axes>"
            ],
            "image/png": "[encoded data removed]"
          },
          "metadata": {
            "needs_background": "light"
          }
        },
        {
          "output_type": "display_data",
          "data": {
            "text/plain": [
              "<Figure size 432x288 with 1 Axes>"
            ],
            "image/png": "[encoded data removed]"
          },
          "metadata": {
            "needs_background": "light"
          }
        }
      ]
    },
    {
      "cell_type": "code",
      "source": [
        "#2.2 Genere cuatro matrices con diferentes tonalidades de grises\n",
        "\n",
        "#Tiene intensidad 0.80\n",
        "plt.figure()\n",
        "imagen_gris080 = np.ones(size)*0.80\n",
        "plt.imshow(imagen_gris080,vmin=0,vmax=1)\n",
        "\n",
        "#Tiene intensidad 0.60\n",
        "plt.figure()\n",
        "imagen_gris060 = np.ones(size)*0.60\n",
        "plt.imshow(imagen_gris060,vmin=0,vmax=1)\n",
        "\n",
        "#Tiene intensidad 0.40\n",
        "plt.figure()\n",
        "imagen_gris040 = np.ones(size)*0.40\n",
        "plt.imshow(imagen_gris040,vmin=0,vmax=1)\n",
        "\n",
        "#Tiene intensidad 0.20\n",
        "plt.figure()\n",
        "imagen_gris020 = np.ones(size)*0.20\n",
        "plt.imshow(imagen_gris020,vmin=0,vmax=1)"
      ],
      "metadata": {
        "colab": {
          "base_uri": "https://localhost:8080/",
          "height": 1000
        },
        "id": "kXiNk9YPau5x",
        "outputId": "205a18f7-d375-4b51-8fec-0bd50d365d47"
      },
      "execution_count": null,
      "outputs": [
        {
          "output_type": "execute_result",
          "data": {
            "text/plain": [
              "<matplotlib.image.AxesImage at 0x7fad51418550>"
            ]
          },
          "metadata": {},
          "execution_count": 5
        },
        {
          "output_type": "display_data",
          "data": {
            "text/plain": [
              "<Figure size 432x288 with 1 Axes>"
            ],
            "image/png": "[encoded data removed]"
          },
          "metadata": {
            "needs_background": "light"
          }
        },
        {
          "output_type": "display_data",
          "data": {
            "text/plain": [
              "<Figure size 432x288 with 1 Axes>"
            ],
            "image/png": "[encoded data removed]"
          },
          "metadata": {
            "needs_background": "light"
          }
        },
        {
          "output_type": "display_data",
          "data": {
            "text/plain": [
              "<Figure size 432x288 with 1 Axes>"
            ],
            "image/png": "[encoded data removed]"
          },
          "metadata": {
            "needs_background": "light"
          }
        },
        {
          "output_type": "display_data",
          "data": {
            "text/plain": [
              "<Figure size 432x288 with 1 Axes>"
            ],
            "image/png": "[encoded data removed]"
          },
          "metadata": {
            "needs_background": "light"
          }
        }
      ]
    },
    {
      "cell_type": "code",
      "source": [
        "#2.3 Genere dos matrices aleatorias de ceros y unos (np.random.rand)\n",
        "plt.figure()\n",
        "imagen_gris080 = np.random.randint(2, size=(30,30))\n",
        "plt.imshow(imagen_gris080,vmin=0,vmax=1)\n",
        "\n",
        "plt.figure()\n",
        "imagen_aleatoria = np.random.rand(size[0],size[1])\n",
        "plt.imshow(imagen_aleatoria,vmin=0,vmax=1)\n"
      ],
      "metadata": {
        "colab": {
          "base_uri": "https://localhost:8080/",
          "height": 532
        },
        "id": "XhnO_JiLcqIz",
        "outputId": "7ad0bd41-317e-4524-f9f2-4ddfde1e2732"
      },
      "execution_count": null,
      "outputs": [
        {
          "output_type": "execute_result",
          "data": {
            "text/plain": [
              "<matplotlib.image.AxesImage at 0x7fad512f4290>"
            ]
          },
          "metadata": {},
          "execution_count": 6
        },
        {
          "output_type": "display_data",
          "data": {
            "text/plain": [
              "<Figure size 432x288 with 1 Axes>"
            ],
            "image/png": "[encoded data removed]"
          },
          "metadata": {
            "needs_background": "light"
          }
        },
        {
          "output_type": "display_data",
          "data": {
            "text/plain": [
              "<Figure size 432x288 with 1 Axes>"
            ],
            "image/png": "[encoded data removed]"
          },
          "metadata": {
            "needs_background": "light"
          }
        }
      ]
    },
    {
      "cell_type": "code",
      "source": [
        "\"\"\"2.4 Generar las siguientes matrices\n",
        "• La mitad superior blanco y la mitad inferior negro\n",
        "• La mitad del lado izquierdo blanco y la otra negro\n",
        "• La matriz dividida en 4 partes de diferentes tonalidades de grises\"\"\"\n",
        "\n",
        "\n",
        "data = np.ones((64, 64))\n",
        "data[32:64,0:64] = 0.0\n",
        "fig, (ax1, ax2) = plt.subplots(ncols=2)\n",
        "\n",
        "img1 = ax1.imshow(data)\n",
        "img2 = ax2.imshow(-data)\n",
        "\n",
        "plt.tight_layout(h_pad=1)\n",
        "#imagen_blanca = np.ones(size)\n",
        "#imagen_blanca = np.zeros((0,15))\n",
        "#visualizamos la matriz\n",
        "#Se ve como una imagen blanca, ya que todos los elementos (pixeles) tienen intensidad 1\n",
        "#plt.imshow(imagen_blanca,vmin=0,vmax=1)\n",
        "\n",
        "#IMPLEMENTAR\n"
      ],
      "metadata": {
        "colab": {
          "base_uri": "https://localhost:8080/",
          "height": 231
        },
        "id": "fZa7ugipghAs",
        "outputId": "3ebfdca3-e2cd-47d2-c02f-8fea8c4b36b0"
      },
      "execution_count": null,
      "outputs": [
        {
          "output_type": "display_data",
          "data": {
            "text/plain": [
              "<Figure size 432x288 with 2 Axes>"
            ],
            "image/png": "[encoded data removed]"
          },
          "metadata": {
            "needs_background": "light"
          }
        }
      ]
    },
    {
      "cell_type": "code",
      "source": [
        "X=np.random.randint(256, size=(10, 10))\n",
        "\n",
        "fig = plt.figure(figsize=(2,2))\n",
        "plt.imshow(X)\n",
        "plt.title(\"Plot 2D array\")\n",
        "plt.show()"
      ],
      "metadata": {
        "colab": {
          "base_uri": "https://localhost:8080/",
          "height": 173
        },
        "id": "_9xvPGnRQ1BL",
        "outputId": "79e5abb7-33e6-4527-80a6-b0dad14bb1e0"
      },
      "execution_count": null,
      "outputs": [
        {
          "output_type": "display_data",
          "data": {
            "text/plain": [
              "<Figure size 144x144 with 1 Axes>"
            ],
            "image/png": "[encoded data removed]"
          },
          "metadata": {
            "needs_background": "light"
          }
        }
      ]
    }
  ]
}